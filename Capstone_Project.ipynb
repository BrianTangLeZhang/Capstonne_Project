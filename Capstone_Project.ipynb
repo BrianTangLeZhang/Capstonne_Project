{
 "cells": [
  {
   "cell_type": "code",
   "execution_count": 3,
   "id": "2fcefe2c-9d3f-4059-86d6-393daabc8b8a",
   "metadata": {},
   "outputs": [],
   "source": [
    "import time\n",
    "import pandas as pd\n",
    "from selenium import webdriver\n",
    "from bs4 import BeautifulSoup\n",
    "from selenium.webdriver.common.by import By\n",
    "from selenium.webdriver.common.keys import Keys"
   ]
  },
  {
   "cell_type": "code",
   "execution_count": 10,
   "id": "260e898e-2302-42f7-a762-1afd6464cb95",
   "metadata": {},
   "outputs": [
    {
     "name": "stdout",
     "output_type": "stream",
     "text": [
      "{'name': 'Just Enough Items (JEI)', 'author': 'mezz', 'description': 'View Items and Recipes'}\n",
      "{'name': 'Cloth Config API (Fabric/Forge/NeoForge)', 'author': 'shedaniel', 'description': 'Config Screen API for Minecraft'}\n",
      "{'name': 'GeckoLib', 'author': 'Gecko', 'description': 'A 3D animation library for entities, blocks, items, armor, and more!'}\n",
      "{'name': 'Mouse Tweaks', 'author': 'YaLTeR', 'description': 'Enhances inventory management by adding various functions to the mouse buttons.'}\n",
      "{'name': 'Architectury API (Fabric/Forge/NeoForge)', 'author': 'shedaniel', 'description': 'An intermediary api aimed to ease developing multiplatform mods.'}\n",
      "{'name': 'Bookshelf', 'author': 'DarkhaxDev', 'description': 'An open source library for other mods!'}\n",
      "{'name': 'AppleSkin', 'author': 'squeek502', 'description': 'Adds some useful information about food/hunger to the HUD'}\n",
      "{'name': 'Controlling', 'author': 'Jaredlll08', 'description': 'Adds a search bar to the Key-Bindings menu'}\n",
      "{'name': 'Clumps', 'author': 'Jaredlll08', 'description': 'Clumps XP orbs together to reduce lag'}\n",
      "{'name': 'Curios API (Forge/NeoForge)', 'author': 'TheIllusiveC4', 'description': 'A flexible and expandable accessory/equipment API for users and developers.'}\n",
      "{'name': 'Moonlight Lib', 'author': 'MehVahdJukaar', 'description': 'Forge and Fabric lightweight library with utilities such as custom Villagers AI, data driven trades,, custom Map Markers, First and third person item animations, dynamic assets and registration & more'}\n",
      "{'name': 'ModernFix', 'author': 'embeddedt', 'description': 'All-in-one mod that improves performance, reduces memory usage, and fixes many bugs. Compatible with all your favorite performance mods!'}\n",
      "{'name': 'Jade 🔍', 'author': 'Snownee', 'description': 'Shows information about what you are looking at. (Hwyla/WAILA fork for Minecraft 1.16+)'}\n",
      "{'name': \"Nature's Compass\", 'author': 'Chaosyr', 'description': \"Nature's Compass is an item that allows you to locate biomes anywhere in the world.\"}\n",
      "{'name': 'JourneyMap', 'author': 'techbrew', 'description': 'Real-time mapping in-game or your browser as you explore.'}\n",
      "{'name': 'Waystones', 'author': 'BlayTheNinth', 'description': 'Teleport back to activated waystones. For Survival, Adventure or Servers.'}\n",
      "{'name': 'Collective', 'author': 'Serilum', 'description': \"🎓 Collective is a shared library with common code for all of Serilum's mods.\"}\n",
      "{'name': 'Placebo', 'author': 'Shadows_of_Fire', 'description': 'A library mod'}\n",
      "{'name': 'Enchantment Descriptions', 'author': 'DarkhaxDev', 'description': 'Adds in-game descriptions for enchantments to tooltips.'}\n",
      "{'name': 'Cupboard', 'author': 'someaddon', 'description': 'Cupboard provides code, frameworks, and utilities for minecraft mods'}\n"
     ]
    }
   ],
   "source": [
    "url = 'https://www.curseforge.com/minecraft/search?page=1&pageSize=20&sortBy=popularity&class=mc-mods'\n",
    "\n",
    "driver = webdriver.Chrome()\n",
    "driver.get(url)\n",
    "time.sleep(5)\n",
    "\n",
    "html = driver.page_source\n",
    "soup = BeautifulSoup(html,'html.parser')\n",
    "\n",
    "mod = {}\n",
    "mods = []\n",
    "\n",
    "for item in soup.find_all('div',class_='project-card'):\n",
    "    mod['name'] = item.find('span',class_='ellipsis').text\n",
    "    mod['author'] = item.find('a',class_='author-name').text\n",
    "    mod['description'] = item.find('p',class_='description').text\n",
    "    print(mod)\n",
    "    mods.append(mod)\n",
    "\n",
    "driver.quit()"
   ]
  },
  {
   "cell_type": "code",
   "execution_count": 11,
   "id": "965c3e32-0b1c-4173-9e86-4be0b0fd1ada",
   "metadata": {},
   "outputs": [
    {
     "data": {
      "text/plain": [
       "[{'name': 'Cupboard',\n",
       "  'author': 'someaddon',\n",
       "  'description': 'Cupboard provides code, frameworks, and utilities for minecraft mods'},\n",
       " {'name': 'Cupboard',\n",
       "  'author': 'someaddon',\n",
       "  'description': 'Cupboard provides code, frameworks, and utilities for minecraft mods'},\n",
       " {'name': 'Cupboard',\n",
       "  'author': 'someaddon',\n",
       "  'description': 'Cupboard provides code, frameworks, and utilities for minecraft mods'},\n",
       " {'name': 'Cupboard',\n",
       "  'author': 'someaddon',\n",
       "  'description': 'Cupboard provides code, frameworks, and utilities for minecraft mods'},\n",
       " {'name': 'Cupboard',\n",
       "  'author': 'someaddon',\n",
       "  'description': 'Cupboard provides code, frameworks, and utilities for minecraft mods'},\n",
       " {'name': 'Cupboard',\n",
       "  'author': 'someaddon',\n",
       "  'description': 'Cupboard provides code, frameworks, and utilities for minecraft mods'},\n",
       " {'name': 'Cupboard',\n",
       "  'author': 'someaddon',\n",
       "  'description': 'Cupboard provides code, frameworks, and utilities for minecraft mods'},\n",
       " {'name': 'Cupboard',\n",
       "  'author': 'someaddon',\n",
       "  'description': 'Cupboard provides code, frameworks, and utilities for minecraft mods'},\n",
       " {'name': 'Cupboard',\n",
       "  'author': 'someaddon',\n",
       "  'description': 'Cupboard provides code, frameworks, and utilities for minecraft mods'},\n",
       " {'name': 'Cupboard',\n",
       "  'author': 'someaddon',\n",
       "  'description': 'Cupboard provides code, frameworks, and utilities for minecraft mods'},\n",
       " {'name': 'Cupboard',\n",
       "  'author': 'someaddon',\n",
       "  'description': 'Cupboard provides code, frameworks, and utilities for minecraft mods'},\n",
       " {'name': 'Cupboard',\n",
       "  'author': 'someaddon',\n",
       "  'description': 'Cupboard provides code, frameworks, and utilities for minecraft mods'},\n",
       " {'name': 'Cupboard',\n",
       "  'author': 'someaddon',\n",
       "  'description': 'Cupboard provides code, frameworks, and utilities for minecraft mods'},\n",
       " {'name': 'Cupboard',\n",
       "  'author': 'someaddon',\n",
       "  'description': 'Cupboard provides code, frameworks, and utilities for minecraft mods'},\n",
       " {'name': 'Cupboard',\n",
       "  'author': 'someaddon',\n",
       "  'description': 'Cupboard provides code, frameworks, and utilities for minecraft mods'},\n",
       " {'name': 'Cupboard',\n",
       "  'author': 'someaddon',\n",
       "  'description': 'Cupboard provides code, frameworks, and utilities for minecraft mods'},\n",
       " {'name': 'Cupboard',\n",
       "  'author': 'someaddon',\n",
       "  'description': 'Cupboard provides code, frameworks, and utilities for minecraft mods'},\n",
       " {'name': 'Cupboard',\n",
       "  'author': 'someaddon',\n",
       "  'description': 'Cupboard provides code, frameworks, and utilities for minecraft mods'},\n",
       " {'name': 'Cupboard',\n",
       "  'author': 'someaddon',\n",
       "  'description': 'Cupboard provides code, frameworks, and utilities for minecraft mods'},\n",
       " {'name': 'Cupboard',\n",
       "  'author': 'someaddon',\n",
       "  'description': 'Cupboard provides code, frameworks, and utilities for minecraft mods'}]"
      ]
     },
     "execution_count": 11,
     "metadata": {},
     "output_type": "execute_result"
    }
   ],
   "source": [
    "mods"
   ]
  },
  {
   "cell_type": "code",
   "execution_count": null,
   "id": "403427ac-d761-452a-ad1c-183fa230e043",
   "metadata": {},
   "outputs": [],
   "source": []
  }
 ],
 "metadata": {
  "kernelspec": {
   "display_name": "Python 3 (ipykernel)",
   "language": "python",
   "name": "python3"
  },
  "language_info": {
   "codemirror_mode": {
    "name": "ipython",
    "version": 3
   },
   "file_extension": ".py",
   "mimetype": "text/x-python",
   "name": "python",
   "nbconvert_exporter": "python",
   "pygments_lexer": "ipython3",
   "version": "3.12.4"
  }
 },
 "nbformat": 4,
 "nbformat_minor": 5
}
